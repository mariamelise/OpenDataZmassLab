#Data importation and function definition
import ROOT #importing ROOT in order to use all of the functions
 
datafileMuon = ROOT.TFile.Open('http://opendata.atlas.cern/release/samples/Data/DataMuons.root') #Opening the file to access the muon data, note that it may contain events with no muons as well
datafileElectron = ROOT.TFile.Open('http://opendata.atlas.cern/release/samples/Data/DataEgamma.root') #Opening the file to access the electron data
 
datafileMuon.ls() #In order to find the name of the tree
datafileElectron.ls() #In order to find the name of the tree
treeMuon = datafileMuon.Get("mini") #Getting the muon tree
print ('There are %i entries'%treeMuon.GetEntries()) #Printing the amount of entries
treeElectron = datafileElectron.Get('mini') #Getting the electron tree
print ('There are %i entries'%treeElectron.GetEntries()) #Printing the amount of entries
 
def getInvMass(lep1_pt, lep1_eta, lep1_phi, lep2_pt, lep2_eta, lep2_phi): #Function for calculating the invariant mass of the Z boson
    import math
    InvMass2 = 2*lep1_pt*lep2_pt*((((math.e**(lep1_eta-lep2_eta))+math.e**(lep2_eta-lep1_eta))/2)-math.cos(lep1_phi-lep2_phi)) #deg is in radians
    InvMass=math.sqrt(InvMass2)
    return InvMass
 
def PTBoson(lep1_pt, lep1_phi, lep2_pt, lep2_phi): #Function for calculating the transverse momentum of the Z boson
    import math
    YComponent = lep1_pt*math.sin(lep1_phi)+lep2_pt*math.sin(lep2_phi)
    XComponent = lep1_pt*math.cos(lep1_phi)+lep2_pt*math.cos(lep2_phi)
    TransMom = math.sqrt(YComponent**2+XComponent**2)
    return TransMom
 
#Creating the histograms
nbins=200 #the amount of bins for each histogram
lowedge=0 #Histograms start at x=0
upedge=200 #histograms end at x=200
 
h_massMuon = ROOT.TH1F("MassZBosonM", "; Invariant mass [GeV]; Number of events", nbins, lowedge, upedge) #Histogram for muon decay channels only
h_massElectron = ROOT.TH1F('MassZBosonE',"; Invariant mass [GeV]; Number of events", nbins, lowedge, upedge) #Histogram for electron decay channels only
h_massMuonElectron = ROOT.TH1F('MassZBosonME',"; Invariant mass [GeV]; Number of events", nbins, lowedge, upedge) #Histogram for both muon and electron decay channels
 
PTMuon = ROOT.TH1F('PTMuon',"; Transverse momentum [GeV]; Number of events", nbins, lowedge, upedge) #Transverse momentum of the muons histogram
 
h_massMuonPosLPSR = ROOT.TH1F('MassZLowPSR',"; Invariant mass [GeV]; Number of events", nbins, lowedge, upedge) #Muon low pseudorapidity histogram
h_massMuonPosMLPSR = ROOT.TH1F('MassZMLPSR',"; Invariant mass [GeV]; Number of events", nbins, lowedge, upedge) #Muon middle low pseudorapidity histogram
h_massMuonPosMPSR = ROOT.TH1F('MassZMPSR',"; Invariant mass [GeV]; Number of events", nbins, lowedge, upedge) #Muon middle pseudorapidity histogram
h_massMuonPosMHPSR = ROOT.TH1F('MassZMHPSR',"; Invariant mass [GeV]; Number of events", nbins, lowedge, upedge) #Muon middle high pseudorapidity histogram
h_massMuonPosHPSR = ROOT.TH1F('MassZHighPSR',"; Invariant mass [GeV]; Number of events", nbins, lowedge, upedge) #Muon high pseudorapidity histogram
 
h_massMuonPosLPT = ROOT.TH1F('MassZLowPT',"; Invariant mass [GeV]; Number of events", nbins, lowedge, upedge) #Mass of the z boson depending on the transverese momentum of the muon
h_massMuonPosMLPT = ROOT.TH1F('MassZMLowPT',"; Invariant mass [GeV]; Number of events", nbins, lowedge, upedge)#Mass of the z boson depending on the transverese momentum of the muon
h_massMuonPosMPT = ROOT.TH1F('MassZMPT',"; Invariant mass [GeV]; Number of events", nbins, lowedge, upedge)#Mass of the z boson depending on the transverese momentum of the muon
h_massMuonPosMHPT = ROOT.TH1F('MassZMHPT',"; Invariant mass [GeV]; Number of events", nbins, lowedge, upedge)#Mass of the z boson depending on the transverese momentum of the muon
h_massMuonPosHPT = ROOT.TH1F('MassZHighPT',"; Invariant mass [GeV]; Number of events", nbins, lowedge, upedge)#Mass of the z boson depending on the transverese momentum of the muon
 
PTBM = ROOT.TH1F("PTOfZBosonM", "; Transverse Momentum [GeV]; Number of events", nbins, lowedge, upedge) #Transverse momentum of the Z boson from muon events
PTBE = ROOT.TH1F("PTOfZBosonE", "; Transverse Momentum [GeV]; Number of events", nbins, lowedge, upedge) #Transverse momentum of the Z boson from electron events
 
h_massMuonLowZPT=ROOT.TH1F('MassZMLowZPT',"; Invariant mass [GeV]; Number of events", nbins, lowedge, upedge) #Invariant mass of Z boson when Z boson had low PT from muon decay channels
h_massMuonHighZPT=ROOT.TH1F('MassZMHighZPT',"; Invariant mass [GeV]; Number of events", nbins, lowedge, upedge)  #Invariant mass of Z boson when Z boson had high PT from muon decay channels
h_massElecLowZPT=ROOT.TH1F('MassZELowZPT',"; Invariant mass [GeV]; Number of events", nbins, lowedge, upedge)  #Invariant mass of Z boson when Z boson had low PT from electron decay channels
h_massElecHighZPT=ROOT.TH1F('MassZEHighZPT',"; Invariant mass [GeV]; Number of events", nbins, lowedge, upedge)  #Invariant mass of Z boson when Z boson had high PT from electron decay channels
 
#The event loop
NEvents=0
print("Start analysis")
for evt in treeMuon: #event loop for the muon tree
    NEvents += 1
    if NEvents%100000==0:
        print('Now on Muon event %i' %NEvents) #prints what event the program is on when the event number is divisible by 100000
    if evt.lep_n!=2:
        continue #only events with 2 leptons
    if evt.lep_type[0]!=13 or evt.lep_type[1]!=13:
        continue #only muons
    if evt.lep_charge[0]==evt.lep_charge[1]:
        continue #only differently charged muons
    lep1_pt=evt.lep_pt[0] #renaming the variables
    lep2_pt=evt.lep_pt[1]
    lep1_eta=evt.lep_eta[0]
    lep2_eta=evt.lep_eta[1]
    lep1_phi=evt.lep_phi[0]
    lep2_phi=evt.lep_phi[1]
    PTMuon.Fill(lep1_pt/1000) #Filling the muon momenta histograms
    PTMuon.Fill(lep2_pt/1000)
    InvariantMass=getInvMass(lep1_pt, lep1_eta, lep1_phi, lep2_pt, lep2_eta, lep2_phi)
    TransverseMomentum=PTBoson(lep1_pt, lep1_phi, lep2_pt, lep2_phi)
    PTBM.Fill(TransverseMomentum/1000) #Filling the Z boson momentum histograms
    if (TransverseMomentum/1000)<=20: #Filling the histograms depending on the Z boson momentum
        h_massMuonLowZPT.Fill(InvariantMass/1000)
    else: h_massMuonHighZPT.Fill(InvariantMass/1000)
    h_massMuon.Fill(InvariantMass/1000) #Filling the muon histogram
    h_massMuonElectron.Fill(InvariantMass/1000) #Filling the histogram with both muon and electron decay channels
    if abs(lep1_eta)<=0.25 and abs(lep2_eta)<=0.25:
        h_massMuonPosLPSR.Fill(InvariantMass/1000) #Filling the low pseudorapidity histogram
    if abs(0.25)<lep1_eta<=abs(0.5) and abs(0.25)<lep2_eta<=abs(0.5):        
        h_massMuonPosMLPSR.Fill(InvariantMass/1000) #Filling the middle low pseudorapidity histogram
    if abs(0.5)<lep1_eta<=abs(1) and abs(0.5)<lep2_eta<=abs(1.5):
        h_massMuonPosMPSR.Fill(InvariantMass/1000) #Filling the middle pseudorapidity histogram
    if abs(1)<lep1_eta<=abs(1.5) and abs(1)<lep2_eta<=abs(1.5):
        h_massMuonPosMHPSR.Fill(InvariantMass/1000) #Filling the middle high pseudorapidity histogram
    if lep1_eta>abs(1.5) and lep2_eta>abs(1.5):
        h_massMuonPosHPSR.Fill(InvariantMass/1000) #Filling the high pseudorapidity histogram
    if lep1_pt<=30000 and lep2_pt<=30000:
        h_massMuonPosLPT.Fill(InvariantMass/1000) #Filling the low muon momentum histogram
    if 30000<lep1_pt<=40000 and 30000<lep2_pt<=40000:
        h_massMuonPosMLPT.Fill(InvariantMass/1000) #Filling the middle low muon momentum histogram
    if 40000<lep1_pt<=45000 and 40000<lep2_pt<=45000:
        h_massMuonPosMPT.Fill(InvariantMass/1000) #Filling the middle muon momentum histogram
    if 45000<lep1_pt<=50000 and 45000<lep2_pt<=50000:
        h_massMuonPosMHPT.Fill(InvariantMass/1000) #Filling the middle high muon momentum histogram
    if lep1_pt>50000 and lep2_pt>50000:
        h_massMuonPosHPT.Fill(InvariantMass/1000) #Filling the high muom momentum histogram
NEvents=0 #Resetting the events
for evt in treeElectron: #Electron loop
    NEvents += 1
    if NEvents%100000==0:
        print('Now on Electron event %i' %NEvents) #Print event number if divisible by 100000
    if evt.lep_n!=2:
        continue #Only two leptons
    if evt.lep_type[0]!=11 or evt.lep_type[1]!=11:
        continue #Leptons must be electrons
    if evt.lep_charge[0]==evt.lep_charge[1]:
        continue #electrons must have different charges
    lep1_pt=evt.lep_pt[0] #Renaming the variables
    lep2_pt=evt.lep_pt[1]
    lep1_eta=evt.lep_eta[0]
    lep2_eta=evt.lep_eta[1]
    lep1_phi=evt.lep_phi[0]
    lep2_phi=evt.lep_phi[1]
    InvariantMass=getInvMass(lep1_pt, lep1_eta, lep1_phi, lep2_pt, lep2_eta, lep2_phi)
    TransverseMomentum=PTBoson(lep1_pt, lep1_phi, lep2_pt, lep2_phi)
    PTBE.Fill(TransverseMomentum/1000) #Filling the Z boson momentum histogram for the electron decay channels
    if (TransverseMomentum/1000)<=20:
        h_massElecLowZPT.Fill(InvariantMass/1000) #Filling the low Z boson momentum histogram
    else: h_massElecHighZPT.Fill(InvariantMass/1000) #Filling the high Z boson momentum histogram
    h_massElectron.Fill(InvariantMass/1000) #Filling the electron decay channel histogram
    h_massMuonElectron.Fill(InvariantMass/1000) #Filling the muon and electron histogram
print("Finish analysis")
 
from ROOT import kRed,kBlue,kGreen,kBlack,kOrange,kTeal,kPink,kAzure,kViolet,kSpring #importing colours for histogram and functions
 
canvas8 = ROOT.TCanvas('Canvas8','Title',800,600) #creating canvas to draw a histogram
PTBM.Draw('e1') #Draws the Z boson momentum histogram for the muon decay channels, ‘e1’ specifies error bars with vertical lines
canvas8.Draw()
 
canvas9 = ROOT.TCanvas('Canvas9','Title',800,600)
PTBE.Draw('e1') #Draws the Z boson momentum histogram for the muon decay channels
canvas9.Draw()
 
canvas14 = ROOT.TCanvas('Canvas14','Title',800,600)
PTMuon.Draw('e1') #Draws the muon momentum histogram
canvas14.Draw()
 
#Breit-Wigner and background function
Xlow = 80 #Lower edge for curve fitting
XUp = 100 #Upper edge for curve fitting
import math
funcBW = ROOT.TF1("BW","[0]*TMath::BreitWigner(x,[1],[2])",Xlow,XUp) #predifined Breit-Wigner function
funcBW.SetParameters(30000,90,5) #Setting some ‘’base’’ parameters
funcBW.Save(Xlow,XUp,0,0,0,0) #Setting the interval for fitting
FuncBack = ROOT.TF1("Fb", "pol0+expo(1)", Xlow, XUp) #Background function
FTot=ROOT.TF1('FTot','BW+Fb',Xlow,XUp) #Total function for fitting
FTot.Save(Xlow,XUp,0,0,0,0)
 
#Drawing the histograms
#Muon and electron data decay channels
from ROOT import TLegend #Importing legend function
canvas1a = ROOT.TCanvas("Canvas1a","Title",800,600) #or canvas1 = ROOT.TCanvas("Canvas1","Title",800,600) #Creating canvas
h_massMuon.Draw("e1") #Drawing the muon decay channel histogram
h_massMuon.SetLineWidth(2) #Setting line width to 2
canvas1a.Draw()
FitResultM=h_massMuon.Fit('FTot', "S", "",Xlow,XUp) #Fitting the curve to the histogram, option ‘’S’’ gives a detailed statistical result
FTot.SetLineColor(kRed) #Setting the line colour
leg1a = TLegend(0.4,0.6,0.7,0.7)  #Creating a legend
leg1a.AddEntry(h_massMuon,'Mass (Muon Data)','l') #Adding the histogram to the legend
leg1a.AddEntry(FTot,'Breit wigner + background function','l') #Adding the function to the histogram
leg1a.Draw()
print("For Histogram 1a (Muon Data): \n*** Chi-square sum = {:.1f}, Number of degrees of freedom = {}, ratio = {:.1f}\n".format(FitResultM.Chi2(), FitResultM.Ndf(), FitResultM.Chi2()/FitResultM.Ndf())) #Prints the chi squared ratio
canvas1a.Draw() #Draws the histogram
 
canvas1b = ROOT.TCanvas('Canvas1b','Title',800,600)
h_massElectron.Draw("e1") #Drawing the electron decay channel histogram
h_massElectron.SetLineWidth(2)
canvas1b.Draw()
FTot.SetLineColor(kRed)
FitResultE=h_massElectron.Fit('FTot', "S", "",Xlow,XUp)
leg1b = TLegend(0.4,0.6,0.7,0.7)
leg1b.AddEntry(h_massElectron,'Mass (Electron Data)','l')
leg1b.AddEntry(FTot,'Breit wigner + background function','l')
leg1b.Draw()
print("For Histogram 1b (Electron Data): \n*** Chi-square sum = {:.1f}, Number of degrees of freedom = {}, ratio = {:.1f}\n".format(FitResultE.Chi2(), FitResultE.Ndf(), FitResultE.Chi2()/FitResultE.Ndf()))
canvas1b.Draw()
 
canvas1c = ROOT.TCanvas('Canvas1c','Title',800,600)
h_massMuonElectron.Draw("e1l") #Drawing the electron and muon histogram
h_massMuonElectron.SetLineWidth(2)
FTot.SetLineColor(kRed)
FitResultME=h_massMuonElectron.Fit('FTot', "S", "",Xlow,XUp)
leg1c = TLegend(0.4,0.6,0.7,0.7)
leg1c.AddEntry(h_massMuonElectron,'Mass (Muon and electron Data)','l')
leg1c.AddEntry(FTot,'Breit wigner + background function','l')
leg1c.Draw()
print("For Histogram 1c (Muon & Electron Data): \n*** Chi-square sum = {:.1f}, Number of degrees of freedom = {}, ratio = {:.1f}\n".format(FitResultME.Chi2(), FitResultME.Ndf(), FitResultME.Chi2()/FitResultME.Ndf()))
canvas1c.Draw()
 
canvas1=ROOT.TCanvas('Canvas1','Title',800,600)
h_massMuon.SetLineColor(kOrange+4) #Changing the line color
h_massElectron.SetLineColor(kViolet+4)
h_massMuon.SetFillColor(kRed) #Setting fill colour
h_massMuon.SetFillStyle(3003) #Fills the area under the curve with the fill colour
h_massElectron.SetFillColor(kBlue)
h_massElectron.SetFillStyle(3005)
h_massMuon.SetLineWidth(2)
h_massElectron.SetLineWidth(2)
h_massMuon.DrawNormalized() #Draws the muon histogram normalized
h_massElectron.DrawNormalized('same') #Draws the normalized electron histogram in the same canvas
leg1 = TLegend(0.5, 0.5, 0.8, 0.8)
leg1.AddEntry(h_massMuon,'Mass (muon data only)','f')
leg1.AddEntry(h_massElectron, 'Mass (electron data only)','f')
#leg1.AddEntry(h_massMuonElectron,'Mass (muon and electron data)','f')
leg1.Draw()
canvas1.Draw() #Draws the histograms in the same canvas
 
from ROOT import kFullDotMedium #Import marker style
MassNF = ROOT.TH1F('Center Parameter','Center parameter; ; Most Probable Mass [GeV]',2,0,2) #Create histogram for the center parameter
MassNF.SetBinContent(1,9.07616e+01) #Setting parameter value for the muon histogram of bin 1
MassNF.SetBinError(1,6.02547e-03) #Setting the error of the parameter
MassNF.SetBinContent(2,9.00398e+01) #Setting the electron center parameter
MassNF.SetBinError(2,8.90053e-03) #Setting the error
MassNF.SetLineWidth(2)
MassNFaxis = MassNF.GetXaxis() #Getting the x-axis of the histogram
MassNFaxis.SetBinLabel(1,'Muon Data') #Labeling the first bin
MassNFaxis.SetBinLabel(2,'Electron Data') #Labeling the second bin
MassNF.SetMarkerStyle(kFullDotMedium) #Setting the marker style
MassNF.SetMarkerColor(kBlue+2) #Marker should have colorr blue
canvas1d = ROOT.TCanvas('Canvas1d','Title',800,600)
MassNF.Draw('e1')
canvas1d.Draw()
WidthNF = ROOT.TH1F('Width parameter','Width;;Width [GeV]',2,0,2) #Creating width parameter histogram
WidthNF.SetBinContent(1,5.71029e+00) #Width of muon histogram
WidthNF.SetBinError(1,2.38037e-02) #Error of width
WidthNF.SetBinContent(2,6.56893e+00) #Width of electron histogram
WidthNF.SetBinError(2,3.68440e-02) #Error of width
WidthNF.SetLineWidth(2)
WidthNFaxis = WidthNF.GetXaxis() #Getting the x-axis
WidthNFaxis.SetBinLabel(1,'Muon Data') #Label of the first bin
WidthNFaxis.SetBinLabel(2,'Electron Data') #Label of the second bin
WidthNF.SetMarkerStyle(kFullDotMedium) #Marker style
WidthNF.SetMarkerColor(kBlue+2) #Marker color
canvas1e = ROOT.TCanvas('Canvas1e','Title',800,600)
WidthNF.Draw('e1')
canvas1e.Draw() #Drawing the histogram on the canvas
 
#Pseudorapidity
canvas2a = ROOT.TCanvas('Canvas2a','Title',800,600)
h_massMuonPosLPSR.Draw("e1") #Drawing the low pseudorapidity histogram
h_massMuonPosLPSR.SetLineWidth(2)
canvas2a.Draw()
FTot.SetLineColor(kRed)  #Setting the line color
FitResultPosLPSR=h_massMuonPosLPSR.Fit('FTot',"S","",Xlow,XUp)  #Fitting the curve
leg2a = TLegend(0.4,0.6,0.7,0.7) #Creating a legend
leg2a.AddEntry(h_massMuonPosLPSR,'Mass (eta<=0.25)','l') #Adding the histogram to the legend
leg2a.AddEntry(FTot,'Breit wigner + background function','l') #Adding the curve to the legend
leg2a.Draw()
print("For Histogram 2a (Low positive muon PSR): \n*** Chi-square sum = {:.1f}, Number of degrees of freedom = {}, ratio = {:.1f}\n".format(FitResultPosLPSR.Chi2(), FitResultPosLPSR.Ndf(), FitResultPosLPSR.Chi2()/FitResultPosLPSR.Ndf())) #Printing out the chi-squared ratio
canvas2a.Draw()
 
canvas2b = ROOT.TCanvas('Canvas2b','Title',800,600)
h_massMuonPosMLPSR.Draw('e1') #Drawing the middle low pseudorapidity histogram
h_massMuonPosMLPSR.SetLineWidth(2) #Setting the line width to 2
canvas2b.Draw()
FitResultPosMLPSR=h_massMuonPosMLPSR.Fit('FTot','S','',Xlow,XUp) #Fitting the curve
leg2b = TLegend(0.4,0.6,0.7,0.7) #Creating a legend
leg2b.AddEntry(h_massMuonPosMLPSR,'Mass (0.25<eta<=0.5)','l') #Adding histogram entry
leg2b.AddEntry(FTot,'Breit wigner + background function','l') #Adding function entry
leg2b.Draw()
print("For Histogram 2b (Middle-Low positive muon PSR): \n*** Chi-square sum = {:.1f}, Number of degrees of freedom = {}, ratio = {:.1f}\n".format(FitResultPosMLPSR.Chi2(), FitResultPosMLPSR.Ndf(), FitResultPosMLPSR.Chi2()/FitResultPosMLPSR.Ndf())) #Printing chi squared sum
canvas2b.Draw() #Drawing the histogram
 
canvas2c = ROOT.TCanvas('Canvas2c','Title',800,600)  
h_massMuonPosMPSR.Draw('e1') #Drawing the middle pseudorapidity histogram
h_massMuonPosMPSR.SetLineWidth(2) #Setting the line width to 2
canvas2c.Draw()
FitResultPosMPSR=h_massMuonPosMPSR.Fit('FTot','S','',Xlow,XUp) #Fitting the curve
leg2c = TLegend(0.4,0.6,0.7,0.7) #Creating a legend
leg2c.AddEntry(h_massMuonPosMPSR,'Mass (0.5<eta<=1)','l') #Adding the histogram to legend
leg2c.AddEntry(FTot,'Breit wigner + background function','l') #Adding the function to legend
leg2c.Draw() #Drawing the legend
print("For Histogram 2c (Middle positive muon PSR): \n*** Chi-square sum = {:.1f}, Number of degrees of freedom = {}, ratio = {:.1f}\n".format(FitResultPosMPSR.Chi2(), FitResultPosMPSR.Ndf(), FitResultPosMPSR.Chi2()/FitResultPosMPSR.Ndf())) #Printing chi squared ratio
canvas2c.Draw() #Drawing the histogram
 
canvas2d = ROOT.TCanvas('Canvas2d','Title',800,600) #Creating a canvas
h_massMuonPosMHPSR.Draw('e1') #Drawing middle high pseudorapidity histogram
h_massMuonPosMHPSR.SetLineWidth(2) #Changing the line width to 2
canvas2d.Draw()
FitResultPosMHPSR=h_massMuonPosMHPSR.Fit('FTot','S','',Xlow,XUp) #Fitting the function
leg2d = TLegend(0.4,0.6,0.7,0.7) #Creating a legend
leg2d.AddEntry(h_massMuonPosMHPSR,'Mass (1<eta<=1.5)','l')
leg2d.AddEntry(FTot,'Breit wigner + background function','l')
leg2d.Draw()
print("For Histogram 2d (Middle-high positive muon PSR): \n*** Chi-square sum = {:.1f}, Number of degrees of freedom = {}, ratio = {:.1f}\n".format(FitResultPosMHPSR.Chi2(), FitResultPosMHPSR.Ndf(), FitResultPosMHPSR.Chi2()/FitResultPosMHPSR.Ndf())) #Printing the chi squared ratio
canvas2d.Draw()
 
canvas2e = ROOT.TCanvas('Canvas2e','Title',800,600)
h_massMuonPosHPSR.Draw('e1') #Drawing the high pseudorapidity histogram
h_massMuonPosHPSR.SetLineWidth(2)
canvas2e.Draw()
FitResultPosHPSR=h_massMuonPosHPSR.Fit('FTot','S','',Xlow,XUp)
leg2e = TLegend(0.4,0.6,0.7,0.7)
leg2e.AddEntry(h_massMuonPosHPSR,'Mass (1.5<eta)','l')
leg2e.AddEntry(FTot,'Breit wigner + background function','l')
leg2e.Draw()
print("For Histogram 2e (high positive muon PSR): \n*** Chi-square sum = {:.1f}, Number of degrees of freedom = {}, ratio = {:.1f}\n".format(FitResultPosHPSR.Chi2(), FitResultPosHPSR.Ndf(), FitResultPosHPSR.Chi2()/FitResultPosHPSR.Ndf()))
canvas2e.Draw()
 
from ROOT import kFullSquare #Import marker style
MassPSR = ROOT.TH1F('MassPSR','Center parameter;Pseudorapidity;Most Probable Mass [GeV] ',5,0,2) #Creating center parameter histogram
MassPSR.SetBinContent(1,9.07250e+01)  #Adding the center parameters to the five bins
MassPSR.SetBinContent(2,9.08781e+01)
MassPSR.SetBinContent(3,9.07779e+01)
MassPSR.SetBinContent(4,9.06665e+01)
MassPSR.SetBinContent(5,9.07223e+01)
MassPSR.SetBinError(1,3.89812e-02) #Adding the errors
MassPSR.SetBinError(2,7.62945e-02)
MassPSR.SetBinError(3,3.00255e-02)
MassPSR.SetBinError(4,5.19649e-02)
MassPSR.SetBinError(5,3.01339e-02)
MassAxis=MassPSR.GetXaxis()
MassAxis.SetBinLabel(1,'|eta|<=0.25') #Changing the labels of the bins
MassAxis.SetBinLabel(2,'0.25<|eta|<=0.5')
MassAxis.SetBinLabel(3,'0.5<|eta|<=1')
MassAxis.SetBinLabel(4,'1<|eta|<=1.5')
MassAxis.SetBinLabel(5,'|eta|>1.5')
MassAxis.SetLabelSize(20) #Changing the label text of histograms
MassPSR.SetLineWidth(2)
MassPSR.SetMarkerStyle(kFullSquare)
MassPSR.SetMarkerSize(2)
MassPSR.SetMarkerColor(kBlue+2)
canvas2=ROOT.TCanvas('Canvas2','Title',800,600)
MassPSR.Draw('e1')  #Drawing the histogram
canvas2.Draw() #Drawing the canvas
WidthPSR = ROOT.TH1F('WidthPSR','Width;Pseudorapidity; Width [GeV]',5,0,2) #Creating width histogram
WidthPSR.SetBinContent(1,4.59809e+00) #Setting the width parameters as content
WidthPSR.SetBinContent(2,4.81018e+00)
WidthPSR.SetBinContent(3,5.41936e+00)
WidthPSR.SetBinContent(4,6.57902e+00)
WidthPSR.SetBinContent(5,6.85656e+00)
WidthPSR.SetLineWidth(2)
WidthPSR.SetBinError(1,1.27733e-01) #Setting the error
WidthPSR.SetBinError(2,2.47060e-01)
WidthPSR.SetBinError(3,1.04310e-01)
WidthPSR.SetBinError(4,2.28669e-01)
WidthPSR.SetBinError(5,1.26185e-01)
WidthAxis=WidthPSR.GetXaxis()
WidthAxis.SetBinLabel(1,'|eta|<=0.25') #Labelling the bins
WidthAxis.SetBinLabel(2,'0.25<|eta|<=0.5')
WidthAxis.SetBinLabel(3,'0.5<|eta|<=1')
WidthAxis.SetBinLabel(4,'1<|eta|<=1.5')
WidthAxis.SetBinLabel(5,'|eta|>1.5')
WidthPSR.SetMarkerStyle(kFullSquare) #Setting the marker style of each bin
WidthPSR.SetMarkerSize(2) #Changing the size of the marker
WidthPSR.SetMarkerColor(kBlue+2)
Canvas22=ROOT.TCanvas('Canvas22','Title',800,600)
WidthPSR.Draw('e1') #Drawing the histogram
Canvas22.Draw() #Drawing the canvas
 
#Muon momentum
canvas3a = ROOT.TCanvas('Canvas3a','Title',800,600)
h_massMuonPosLPT.Draw('e1') #Drawing the low muon momentum histogram
h_massMuonPosLPT.SetLineWidth(2)
canvas3a.Draw()
FitResultPosLPT=h_massMuonPosLPT.Fit('FTot','S','',Xlow,XUp) #Fitting the curve
leg3a = TLegend(0.4,0.6,0.7,0.7)
leg3a.AddEntry(h_massMuonPosLPT,'Mass (PT<=30 GeV)','l')
leg3a.AddEntry(FTot,'Breit wigner + background function','l')
leg3a.Draw()
print("For Histogram 3a (low positive muon PT): \n*** Chi-square sum = {:.1f}, Number of degrees of freedom = {}, ratio = {:.1f}\n".format(FitResultPosLPT.Chi2(), FitResultPosLPT.Ndf(), FitResultPosLPT.Chi2()/FitResultPosLPT.Ndf())) #Printing the chi squared sum
canvas3a.Draw()
 
canvas3b = ROOT.TCanvas('Canvas3b','Title',800,600)
h_massMuonPosMLPT.Draw('e1') #Drawing the middle low muon momentum histogram
h_massMuonPosMLPT.SetLineWidth(2)
canvas3b.Draw()
FitResultPosMLPT=h_massMuonPosMLPT.Fit('FTot','S','',Xlow,XUp)
leg3b = TLegend(0.4,0.6,0.7,0.7)
leg3b.AddEntry(h_massMuonPosMLPT,'Mass (30<PT<=40 GeV)','l')
leg3b.AddEntry(FTot,'Breit wigner + background function','l')
leg3b.Draw()
print("For Histogram 3b (middle low positive muon PT): \n*** Chi-square sum = {:.1f}, Number of degrees of freedom = {}, ratio = {:.1f}\n".format(FitResultPosMLPT.Chi2(), FitResultPosMLPT.Ndf(), FitResultPosMLPT.Chi2()/FitResultPosMLPT.Ndf()))
canvas3b.Draw()
 
canvas3c = ROOT.TCanvas('Canvas3c','Title',800,600)
h_massMuonPosMPT.Draw('e1') #Drawing the middle momentum histogram
h_massMuonPosMPT.SetLineWidth(2)
canvas3c.Draw()
FitResultPosMPT=h_massMuonPosMPT.Fit('FTot','S','',Xlow,XUp)
leg3c = TLegend(0.4,0.6,0.7,0.7)
leg3c.AddEntry(h_massMuonPosMPT,'Mass (40<PT<=45 GeV)','l')
leg3c.AddEntry(FTot,'Breit wigner + background function','l')
leg3c.Draw()
print("For Histogram 3c (middle positive muon PT): \n*** Chi-square sum = {:.1f}, Number of degrees of freedom = {}, ratio = {:.1f}\n".format(FitResultPosMPT.Chi2(), FitResultPosMPT.Ndf(), FitResultPosMPT.Chi2()/FitResultPosMPT.Ndf()))
canvas3c.Draw()
 
canvas3d = ROOT.TCanvas('Canvas3d','Title',800,600)
h_massMuonPosMHPT.Draw('e1') #Drawing the middle high momentum histogram
h_massMuonPosMHPT.SetLineWidth(2)
canvas3d.Draw()
FitResultPosMHPT=h_massMuonPosMHPT.Fit('FTot','S','',Xlow,XUp)
leg3d = TLegend(0.4,0.6,0.7,0.7)
leg3d.AddEntry(h_massMuonPosMHPT,'Mass (45<PT<=50 GeV)','l')
leg3d.AddEntry(FTot,'Breit wigner + background function','l')
leg3d.Draw()
print("For Histogram 3d (middle high positive muon PT): \n*** Chi-square sum = {:.1f}, Number of degrees of freedom = {}, ratio = {:.1f}\n".format(FitResultPosMHPT.Chi2(), FitResultPosMHPT.Ndf(), FitResultPosMHPT.Chi2()/FitResultPosMHPT.Ndf()))
canvas3d.Draw()
 
canvas3e = ROOT.TCanvas('Canvas3e','Title',800,600)
h_massMuonPosHPT.Draw('e1') #Drawing the high muon momentum histogram
h_massMuonPosHPT.SetLineWidth(2)
canvas3e.Draw()
FitResultPosHPT=h_massMuonPosHPT.Fit('FTot','S','',Xlow,XUp)
leg3e = TLegend(0.4,0.6,0.7,0.7)
leg3e.AddEntry(h_massMuonPosHPT,'Mass (50<PT GeV)','l')
leg3e.AddEntry(FTot,'Breit wigner + background function','l')
leg3e.Draw()
print("For Histogram 3e (high positive muon PT): \n*** Chi-square sum = {:.1f}, Number of degrees of freedom = {}, ratio = {:.1f}\n".format(FitResultPosHPT.Chi2(), FitResultPosHPT.Ndf(), FitResultPosHPT.Chi2()/FitResultPosHPT.Ndf()))
canvas3e.Draw()
 
from ROOT import kFullDotMedium
MassPT = ROOT.TH1F('MassPT','Center;Transverse Momentum [GeV]; Most Probable Mass [GeV]',5,0,2) #Creating center parameter histogram
MassPT.SetBinContent(1,9.04832e+01) #Setting the center parameters for each bin
MassPT.SetBinContent(2,9.04689e+01)
MassPT.SetBinContent(3,8.98287e+01)
MassPT.SetBinContent(4,9.37064e+01)
MassPT.SetBinContent(5,9.14172e+01)
MassPT.SetBinError(1,2.31176e-02) #Setting the error for each bin
MassPT.SetBinError(2,1.67647e-02)
MassPT.SetBinError(3,1.48129e-02)
MassPT.SetBinError(4,2.34232e-02)
MassPT.SetBinError(5,5.67573e-02)
MassPT.SetLineWidth(2)
PTMassAxis=MassPT.GetXaxis()
PTMassAxis.SetBinLabel(1,'PT<=30') #Labelling each bin
PTMassAxis.SetBinLabel(2,'30<PT<=40')
PTMassAxis.SetBinLabel(3,'40<PT<=45')
PTMassAxis.SetBinLabel(4,'45<PT<=50')
PTMassAxis.SetBinLabel(5,'PT>50')
MassPT.SetMarkerStyle(kFullDotMedium)
MassPT.SetMarkerColor(kBlue+2)
canvas3 = ROOT.TCanvas('Canvas3','Title',800,600)
MassPT.Draw('e1') #Drawing the histogram
canvas3.Draw() #Drawing the canvas
WidthPT = ROOT.TH1F('WidthPT','Width; Transverse Momentum [GeV]; Width [GeV]',5,0,2) #Creating width histogram
WidthPT.SetBinContent(1,5.32947e+00) #Setting the width parameter as bin values
WidthPT.SetBinContent(2,5.50351e+00)
WidthPT.SetBinContent(3,5.94848e+00)
WidthPT.SetBinContent(4,4.39262e+00)
WidthPT.SetBinContent(5,6.10668e+00)
WidthPT.SetBinError(1,7.78236e-02) #Setting the error for each parameter
WidthPT.SetBinError(2,6.69535e-02)
WidthPT.SetBinError(3,6.15190e-02)
WidthPT.SetBinError(4,6.27473e-02)
WidthPT.SetBinError(5,2.22447e-01)
PTWidthAxis=WidthPT.GetXaxis()
PTWidthAxis.SetBinLabel(1,'PT<=30') #Labelling the bins
PTWidthAxis.SetBinLabel(2,'30<PT<=40')
PTWidthAxis.SetBinLabel(3,'40<PT<=45')
PTWidthAxis.SetBinLabel(4,'45<PT<=50')
PTWidthAxis.SetBinLabel(5,'PT>50')
WidthPT.SetLineWidth(2)
WidthPT.SetMarkerStyle(kFullDotMedium)
WidthPT.SetMarkerColor(kBlue+2)
canvas33=ROOT.TCanvas('Canvas33','Title',800,600)
WidthPT.Draw('e1')
canvas33.Draw() #Drawing the histogram and canvas
 
#Z boson momentum
canvas10a = ROOT.TCanvas('Canvas10a','Title',800,600) #Creating a canvas
h_massMuonLowZPT.Draw('e1') #Drawing the low Z boson momentum histogram for the muon decay channels
h_massMuonLowZPT.SetLineWidth(2)
canvas10a.Draw()
FTot.SetLineColor(kRed)
FitResultLPTZBM=h_massMuonLowZPT.Fit('FTot','S','',Xlow,XUp) #Fitting the curve
leg10a = TLegend(0.4,0.6,0.7,0.7) #Creating a legend
leg10a.AddEntry(h_massMuonLowZPT,'Mass (PT<=20 GeV)','l') #Adding the entries to the legend
leg10a.AddEntry(FTot,'Breit wigner + background function','l')
leg10a.Draw()
print("For Histogram 10a (Low PT Z boson Muon data): \n*** Chi-square sum = {:.1f}, Number of degrees of freedom = {}, ratio = {:.1f}\n".format(FitResultLPTZBM.Chi2(), FitResultLPTZBM.Ndf(), FitResultLPTZBM.Chi2()/FitResultLPTZBM.Ndf())) #Printing the chi squared
canvas10a.Draw()
 
canvas10b=ROOT.TCanvas('canvas10b','Title',800,600)
h_massMuonHighZPT.Draw('e1') #Drawing the high Z boson momentum histogram for the muon decay channels
h_massMuonHighZPT.SetLineWidth(2)
#h_massMuonHighZPT.SetFillColor(kWhite)
#h_massMuonHighZPT.SetFillStyle(3003)
canvas10b.Draw()
FitResultHPTZBM=h_massMuonHighZPT.Fit('FTot','S','',Xlow,XUp)
FTot.SetLineColor(kRed)
leg10b = TLegend(0.4,0.6,0.7,0.7)
leg10b.AddEntry(h_massMuonHighZPT,'Mass (PT>20 GeV)','l')
leg10b.AddEntry(FTot,'Breit wigner + background function','l')
leg10b.Draw()
print("For Histogram 10b (High PT Z boson Muon data): \n*** Chi-square sum = {:.1f}, Number of degrees of freedom = {}, ratio = {:.1f}\n".format(FitResultHPTZBM.Chi2(), FitResultHPTZBM.Ndf(), FitResultHPTZBM.Chi2()/FitResultHPTZBM.Ndf()))
canvas10b.Draw()
 
canvas10c=ROOT.TCanvas('Canvas10c','Title',800,600)  
h_massMuonLowZPT.SetLineWidth(2)
h_massMuonHighZPT.SetLineWidth(2)
h_massMuonLowZPT.SetLineColor(kPink+3)
h_massMuonHighZPT.SetLineColor(kTeal+3)
h_massMuonLowZPT.SetFillColor(kRed)
h_massMuonLowZPT.SetFillStyle(3005)
h_massMuonHighZPT.SetFillColor(kGreen+2)
h_massMuonHighZPT.SetFillStyle(3003)
h_massMuonLowZPT.DrawNormalized() #Drawing the normalized histogram
h_massMuonHighZPT.DrawNormalized('same') #Drawing the normailzed histogram in the same canvas
leg10c = TLegend(0.6, 0.6, 0.8, 0.8)
leg10c.AddEntry(h_massMuonHighZPT,'Mass (20 GeV < PT)','f')
leg10c.AddEntry(h_massMuonLowZPT,'Mass (PT <= 20 GeV)','f')
leg10c.Draw()
canvas10c.Draw()
 
from ROOT import kFullSquare
MassZPT = ROOT.TH1F('MassZPT','Center parameter; Transverse Momentum [GeV]; Most Probable Mass [GeV]',2,0,2)  #Creating the center parameter histogram for the Z boson momentum muon decay channel histograms
MassZPT.SetBinContent(1,9.07407e+01) #Entering the center parameters
MassZPT.SetBinContent(2,9.08082e+01)
MassZPT.SetLineWidth(2)
MassZaxis = MassZPT.GetXaxis()
MassZaxis.SetBinLabel(1,'PT<=20') #Labelling the bins
MassZaxis.SetBinLabel(2,'PT>20')
MassZPT.SetBinError(1,7.20187e-03) #Adding the error
MassZPT.SetBinError(2,9.92615e-03)
MassZPT.SetMarkerStyle(kFullSquare) #Setting the marker style, color and size
MassZPT.SetMarkerColor(kBlue+2)
MassZPT.SetMarkerSize(2)
canvas10=ROOT.TCanvas('Canvas10','Title',800,600)
MassZPT.Draw('e1') #Drawing the histogram
canvas10.Draw()
WidthZPT = ROOT.TH1F('WidthZPT','Width; Transverse Momentum [GeV]; Width [GeV]',2,0,2) #Creating the width parameter histogram
WidthZPT.SetBinContent(1,5.63239e+00) #Setting the widths as values
WidthZPT.SetBinContent(2,5.88206e+00)
WidthZPT.SetLineWidth(2)
WidthZaxis = WidthZPT.GetXaxis()
WidthZaxis.SetBinLabel(1,'PT<=20') #Labelling the bins
WidthZaxis.SetBinLabel(2,'PT>20')
WidthZPT.SetBinError(1,2.86277e-02) #Adding the errors
WidthZPT.SetBinError(2,3.88934e-02)
WidthZPT.SetMarkerStyle(kFullSquare)
WidthZPT.SetMarkerColor(kBlue+2)
WidthZPT.SetMarkerSize(2)
canvas100 = ROOT.TCanvas('Canvas100','Title',800,600)
WidthZPT.Draw('e1') #Drawing the histogram
canvas100.Draw()
 
canvas11a = ROOT.TCanvas('Canvas11a','Title',800,600)
h_massElecLowZPT.Draw('e1') #Drawing the electron decay channel histogram for the Z boson momentum
h_massElecLowZPT.SetLineColor(kBlue+2)
h_massElecLowZPT.SetLineWidth(2)
canvas11a.Draw()
FitResultLPTZBE=h_massElecLowZPT.Fit('FTot','S','',Xlow,XUp) #Fitting the curve
leg11a = TLegend(0.4,0.6,0.7,0.7) #Creating a legend
leg11a.AddEntry(h_massElecLowZPT,'Mass (PT<=20 GeV)','l')
leg11a.AddEntry(FTot,'Breit wigner + background function','l')
leg11a.Draw()
print("For Histogram 11a (Low PT Z boson Electron data): \n*** Chi-square sum = {:.1f}, Number of degrees of freedom = {}, ratio = {:.1f}\n".format(FitResultLPTZBE.Chi2(), FitResultLPTZBE.Ndf(), FitResultLPTZBE.Chi2()/FitResultLPTZBE.Ndf())) #Prints chi squared ratio
canvas11a.Draw()
 
canvas11b = ROOT.TCanvas('Canvas11b','Title',800,600)
h_massElecHighZPT.SetLineWidth(2)
h_massElecHighZPT.Draw('e1') #High boson momentum for electron decay channels
canvas11b.Draw()
FitResultHPTZBE=h_massElecHighZPT.Fit('FTot','S','',Xlow,XUp)
leg11b = TLegend(0.4,0.6,0.7,0.7)
leg11b.AddEntry(h_massElecHighZPT,'Mass (PT>20 GeV)','lep')
leg11b.AddEntry(FTot,'Breit wigner + background function','l')
leg11b.Draw()
print("For Histogram 11b (High PT Z boson Electron data): \n*** Chi-square sum = {:.1f}, Number of degrees of freedom = {}, ratio = {:.1f}\n".format(FitResultHPTZBE.Chi2(), FitResultHPTZBE.Ndf(), FitResultHPTZBE.Chi2()/FitResultHPTZBE.Ndf()))
canvas11b.Draw()
 
canvas11c=ROOT.TCanvas('Canvas11c','Title',800,600)
h_massElecLowZPT.SetLineColor(kAzure+4)
h_massElecHighZPT.SetLineColor(kOrange+4)
h_massElecLowZPT.SetFillColor(kBlue) #Setting fill color and style for area under the curve
h_massElecLowZPT.SetFillStyle(3005)
h_massElecHighZPT.SetFillColor(kRed)
h_massElecHighZPT.SetFillStyle(3003)
h_massElecLowZPT.SetLineWidth(2)
h_massElecHighZPT.SetLineWidth(2)
h_massElecLowZPT.DrawNormalized() #Drawing the histograms normalized
h_massElecHighZPT.DrawNormalized('same')
leg11c = TLegend (0.6,0.6,0.8,0.8)
leg11c.AddEntry(h_massElecLowZPT,'Mass (PT<=20 GeV)','f')
leg11c.AddEntry(h_massElecHighZPT,'Mass (PT>20 GeV)','f')
leg11c.Draw()
canvas11c.Draw()
 
MassZPTe = ROOT.TH1F('MassZPTe','Center parameter; Transverse Momentum [GeV]; Most Probable Mass [GeV]',2,0,2) #Creating center parameter histogram
MassZPTe.SetBinContent(1,9.00008e+01) #Setting center parameter value as content
MassZPTe.SetBinContent(2,9.01202e+01)    
MassZPTe.SetLineWidth(2)
MassZPTe.SetBinError(1,1.24692e-02) #Setting the error
MassZPTe.SetBinError(2,1.54335e-02)
MassZaxise = MassZPTe.GetXaxis()
MassZaxise.SetBinLabel(1,'PT<=20') #Labelling the bins
MassZaxise.SetBinLabel(2,'PT>20')
MassZPTe.SetMarkerStyle(kFullSquare) #Setting the marker style
MassZPTe.SetMarkerColor(kBlue+2)
MassZPTe.SetMarkerSize(2)
canvas11 = ROOT.TCanvas('Canvas11','Title',800,600)
MassZPTe.Draw('e1') #Drawing the histogram
canvas11.Draw()
WidthZPTe = ROOT.TH1F('WidthZPTe','Width; Transverse Momentum [GeV]; Width [GeV]',2,0,2) #Creating width parameter histogram
WidthZPTe.SetBinContent(1,6.57092e+00) #Adding the width parameter to each bin
WidthZPTe.SetBinContent(2,6.55660e+00)
WidthZPTe.SetBinError(1,4.71605e-02) #Setting the error
WidthZPTe.SetBinError(2,5.82994e-02)
WidthZPTe.SetLineWidth(2)
WidthZaxise = WidthZPTe.GetXaxis()
WidthZaxise.SetBinLabel(1,'PT<=20') #Labelling the bins
WidthZaxise.SetBinLabel(2,'PT>20')
WidthZPTe.SetMarkerStyle(kFullSquare)
WidthZPTe.SetMarkerColor(kBlue+2)
WidthZPTe.SetMarkerSize(2)
canvas111 = ROOT.TCanvas('Canvas111','Title',800,600)
WidthZPTe.Draw('e1') #Drawing the histogram
canvas111.Draw()
