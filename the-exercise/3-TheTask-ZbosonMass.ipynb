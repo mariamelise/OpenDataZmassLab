{
 "cells": [
  {
   "cell_type": "markdown",
   "metadata": {},
   "source": [
    "## <CENTER> [SWE] Mätning av $Z$-bosonens massa med ATLAS-data\n",
    "______________________________________________\n",
    "\n",
    "## <CENTER> [ENG] Measuring the $Z$ bosonens mass using ATLAS data\n",
    "    \n",
    "_____________________________________________"
   ]
  },
  {
   "cell_type": "markdown",
   "metadata": {},
   "source": [
    "### [SWE] Med hjälp av det ni lärt er hittills, får ni nu själva mäta $Z$-bosonens massa i data. Nedan finns lite påbörjade förslag på kodbitar som kan vara användbara. Använd dem om ni vill. Vi finns till hands under labben, be om hjälp om ni kör fast. Lycka till! \n",
    "____________________________________________\n",
    "### [ENG] Using what you learned so far, now it's now time for you to measure the $Z$ boson mass. Below are some suggestions on functions that could prove useful, to be filled in. We will be present during the lab, ask for help if you need. Good luck!\n",
    "_____________________________________________\n",
    "_____________________________________________"
   ]
  },
  {
   "cell_type": "code",
   "execution_count": null,
   "metadata": {},
   "outputs": [],
   "source": [
    "import ROOT #importing ROOT in order to use all of the functions
    datafileMuon = ROOT.TFile.Open('http://opendata.atlas.cern/release/samples/Data/DataMuons.root') #Opening the file to access the muon data, note that it may contain events with no muons as well
    datafileElectron = ROOT.TFile.Open('http://opendata.atlas.cern/release/samples/Data/DataEgamma.root') #Opening the file to access the electron data"
   ]
  },
  {
   "cell_type": "markdown",
   "metadata": {},
   "source": [
    "### [ENG] Get the data\n",
    "__________________\n",
    "### [SWE] Hämta data"
   ]
  },
  {
   "cell_type": "code",
   "execution_count": null,
   "metadata": {},
   "outputs": [],
   "source": [
    "# http://opendata.atlas.cern/release/samples\n",
    "# [SWE] leta på ovanstående webbadress, där hittar ni både simulerad och faktisk data. \n",
    "#       För den senare bör ni hitta två filer, en med elektroner/positroner och en med myoner/antimyoner.\n",
    "# [ENG] look at the above web page, you will find simulated and recorded data.\n",
    "#       For the latter you should find two files, one with electrons/positrons and one with muons/antimuons.\n",
    "datafile = ROOT.TFile.Open(\"...\") \n",
    "# ..."
   ]
  },
  {
   "cell_type": "code",
   "execution_count": null,
   "metadata": {},
   "outputs": [],
   "source": [
    "# [SWE] Ladda in i träd (TFile::ls() kan användas för att lista filens innehåll)\n",
    "# [ENG] Load data into tree (TFile::ls() can be used to list the file contents)\n",
    "tree = datafile.Get(\"...\")\n",
    "# ...."
   ]
  },
  {
   "cell_type": "markdown",
   "metadata": {},
   "source": [
    "### [SWE] Funktion för invariant massa\n",
    "_________________________________________\n",
    "### [ENG] Helper function for invariant mass"
   ]
  },
  {
   "cell_type": "code",
   "execution_count": null,
   "metadata": {},
   "outputs": [],
   "source": [
    "def getInvMass(lep1_pt, lep1_eta, lep1_phi, lep2_pt, lep2_eta, lep2_phi):\n",
    "    ''' [SWE] räkna ut invarianta massan med formeln i Introduktions-notboken (antar masslösa partiklar) '''\n",
    "    ''' [ENG] compute the invariant mass using the formula from the Introduction notebook (assume massless particles)'''\n",
    "    import math\n",
    "    ...\n",
    "    return ... "
   ]
  },
  {
   "cell_type": "markdown",
   "metadata": {},
   "source": [
    "### [SWE] Förbered histogram\n",
    "_______________________________\n",
    "### [ENG] Prepare histograms"
   ]
  },
  {
   "cell_type": "code",
   "execution_count": null,
   "metadata": {},
   "outputs": [],
   "source": [
    "# [SWE] Skapa histogram för invarianta massan\n",
    "# [ENG] Create histogram for invariant mass\n",
    "\n",
    "# [SWE] Definiera antal binnar och range\n",
    "# [ENG] Define number of bins and range\n",
    "nbins=..\n",
    "lowedge=..\n",
    "upedge=..\n",
    "\n",
    "h_mass = ROOT.TH1F(\"h_mass\", \"; Invariant mass [GeV]; Number of events\", ..)\n",
    ".."
   ]
  },
  {
   "cell_type": "markdown",
   "metadata": {},
   "source": [
    "### [SWE] Kör event-loopen, hitta elektron-positron/myon-antimyon-par, räkna ut invarianta massan, fyll histogram. Ni tittar på data, så alla händelser innehåller inte en $Z$-boson. Vilka krav/snitt bör ni göra i data för att hitta så \"$Z$-lika\" händelser som möjligt? Titta i notebook 1 för att se vilka variabler som finns tillgängliga.\n",
    "___________________________________________\n",
    "### [ENG] Run the event loop, find electron-positron/myon-antimuon pairs, evaluate the invariant mass, fill histogram(s). You are looking at data-not all events will contain a $Z$ boson. What cuts/requirements do you need to apply to filter out $Z$ boson candidate events? In notebook 1 the different variables in the tree are listed."
   ]
  },
  {
   "cell_type": "code",
   "execution_count": null,
   "metadata": {},
   "outputs": [],
   "source": [
    "for evt in tree:\n",
    "    ...."
   ]
  },
  {
   "cell_type": "code",
   "execution_count": null,
   "metadata": {},
   "outputs": [],
   "source": [
    "%run hints/tip2.py"
   ]
  },
  {
   "cell_type": "markdown",
   "metadata": {},
   "source": [
    "### [SWE] Rita upp den invarianta massan. Ser ni $Z$-peaken?\n",
    "### [ENG] Draw the invariant mass. Do you see the $Z$ boson peak?"
   ]
  },
  {
   "cell_type": "code",
   "execution_count": null,
   "metadata": {},
   "outputs": [],
   "source": [
    "canvas = ...\n",
    "h_mass.Draw(\"...\")\n",
    "canvas.Draw()"
   ]
  },
  {
   "cell_type": "markdown",
   "metadata": {},
   "source": [
    "### [SWE] Gör anpassning för att kunna hitta . Vilken funktion ska anpassas? Behövs en summa av signal plus bakgrund? Prova er fram med olika funktioner och ranges. Titta på notebook 2-Fitting-with-ROOT för tips och hjälp.\n",
    "____________________________________________________\n",
    "### [ENG] Fit the data. What function should you use? Do we need a signal plus background model? Try different functions and ranges. Look and 2-Fitting-with-ROOT for help."
   ]
  },
  {
   "cell_type": "code",
   "execution_count": null,
   "metadata": {},
   "outputs": [],
   "source": [
    "%run hints/hint3.py"
   ]
  },
  {
   "cell_type": "code",
   "execution_count": null,
   "metadata": {},
   "outputs": [],
   "source": [
    "### [SWE] definiera funktioner\n",
    "### [ENG] declare function\n",
    "func = ROOT.TF1(\"...\", ...)"
   ]
  },
  {
   "cell_type": "code",
   "execution_count": null,
   "metadata": {},
   "outputs": [],
   "source": [
    "h_mass.Fit(\"fcn_name\", \"S\", ...)\n",
    "canvas.Draw()"
   ]
  }
 ],
 "metadata": {
  "kernelspec": {
   "display_name": "Python 3",
   "language": "python",
   "name": "python3"
  },
  "language_info": {
   "codemirror_mode": {
    "name": "ipython",
    "version": 3
   },
   "file_extension": ".py",
   "mimetype": "text/x-python",
   "name": "python",
   "nbconvert_exporter": "python",
   "pygments_lexer": "ipython3",
   "version": "3.7.0"
  }
 },
 "nbformat": 4,
 "nbformat_minor": 2
}
